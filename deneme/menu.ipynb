{
 "cells": [
  {
   "cell_type": "code",
   "execution_count": 1,
   "metadata": {},
   "outputs": [
    {
     "name": "stdout",
     "output_type": "stream",
     "text": [
      "**YetGen Kuyumculuk Sitesi'ne Hoşgeldiniz!**\n",
      "Hangi maden için işlem yapmak istersiniz?\n",
      "1. Altın\n",
      "2. Elmas\n",
      "3. Gümüş\n",
      "4. Çıkış\n"
     ]
    },
    {
     "name": "stderr",
     "output_type": "stream",
     "text": [
      "C:\\Users\\ahmet\\AppData\\Local\\Packages\\PythonSoftwareFoundation.Python.3.11_qbz5n2kfra8p0\\LocalCache\\local-packages\\Python311\\site-packages\\IPython\\core\\magics\\execution.py:708: UserWarning: For Windows, use double quotes to wrap a filename: %run \"mypath\\myfile.py\"\n",
      "  warn('For Windows, use double quotes to wrap a filename: %run \"mypath\\\\myfile.py\"')\n"
     ]
    },
    {
     "ename": "Exception",
     "evalue": "File `\"'altin.ipynb'\"` not found.",
     "output_type": "error",
     "traceback": [
      "\u001b[1;31m---------------------------------------------------------------------------\u001b[0m",
      "\u001b[1;31mOSError\u001b[0m                                   Traceback (most recent call last)",
      "File \u001b[1;32m~\\AppData\\Local\\Packages\\PythonSoftwareFoundation.Python.3.11_qbz5n2kfra8p0\\LocalCache\\local-packages\\Python311\\site-packages\\IPython\\core\\magics\\execution.py:698\u001b[0m, in \u001b[0;36mExecutionMagics.run\u001b[1;34m(self, parameter_s, runner, file_finder)\u001b[0m\n\u001b[0;32m    697\u001b[0m     fpath \u001b[39m=\u001b[39m arg_lst[\u001b[39m0\u001b[39m]\n\u001b[1;32m--> 698\u001b[0m     filename \u001b[39m=\u001b[39m file_finder(fpath)\n\u001b[0;32m    699\u001b[0m \u001b[39mexcept\u001b[39;00m \u001b[39mIndexError\u001b[39;00m \u001b[39mas\u001b[39;00m e:\n",
      "File \u001b[1;32m~\\AppData\\Local\\Packages\\PythonSoftwareFoundation.Python.3.11_qbz5n2kfra8p0\\LocalCache\\local-packages\\Python311\\site-packages\\IPython\\utils\\path.py:90\u001b[0m, in \u001b[0;36mget_py_filename\u001b[1;34m(name)\u001b[0m\n\u001b[0;32m     89\u001b[0m         \u001b[39mreturn\u001b[39;00m py_name\n\u001b[1;32m---> 90\u001b[0m \u001b[39mraise\u001b[39;00m \u001b[39mIOError\u001b[39;00m(\u001b[39m\"\u001b[39m\u001b[39mFile `\u001b[39m\u001b[39m%r\u001b[39;00m\u001b[39m` not found.\u001b[39m\u001b[39m\"\u001b[39m \u001b[39m%\u001b[39m name)\n",
      "\u001b[1;31mOSError\u001b[0m: File `\"'altin.ipynb'\"` not found.",
      "\nThe above exception was the direct cause of the following exception:\n",
      "\u001b[1;31mException\u001b[0m                                 Traceback (most recent call last)",
      "Cell \u001b[1;32mIn[1], line 8\u001b[0m\n\u001b[0;32m      5\u001b[0m secim \u001b[39m=\u001b[39m \u001b[39minput\u001b[39m(\u001b[39m\"\u001b[39m\u001b[39mSeçiminiz:\u001b[39m\u001b[39m\"\u001b[39m)\n\u001b[0;32m      7\u001b[0m \u001b[39mif\u001b[39;00m secim \u001b[39m==\u001b[39m \u001b[39m\"\u001b[39m\u001b[39m1\u001b[39m\u001b[39m\"\u001b[39m:\n\u001b[1;32m----> 8\u001b[0m     get_ipython()\u001b[39m.\u001b[39;49mrun_line_magic(\u001b[39m'\u001b[39;49m\u001b[39mrun\u001b[39;49m\u001b[39m'\u001b[39;49m, \u001b[39m\"\u001b[39;49m\u001b[39m'\u001b[39;49m\u001b[39maltin.ipynb\u001b[39;49m\u001b[39m'\u001b[39;49m\u001b[39m\"\u001b[39;49m)\n\u001b[0;32m      9\u001b[0m \u001b[39melif\u001b[39;00m secim \u001b[39m==\u001b[39m \u001b[39m\"\u001b[39m\u001b[39m2\u001b[39m\u001b[39m\"\u001b[39m:\n\u001b[0;32m     10\u001b[0m     get_ipython()\u001b[39m.\u001b[39mrun_line_magic(\u001b[39m'\u001b[39m\u001b[39mrun\u001b[39m\u001b[39m'\u001b[39m, \u001b[39m\"\u001b[39m\u001b[39m'\u001b[39m\u001b[39melmas.ipynb\u001b[39m\u001b[39m'\u001b[39m\u001b[39m\"\u001b[39m)\n",
      "File \u001b[1;32m~\\AppData\\Local\\Packages\\PythonSoftwareFoundation.Python.3.11_qbz5n2kfra8p0\\LocalCache\\local-packages\\Python311\\site-packages\\IPython\\core\\interactiveshell.py:2369\u001b[0m, in \u001b[0;36mInteractiveShell.run_line_magic\u001b[1;34m(self, magic_name, line, _stack_depth)\u001b[0m\n\u001b[0;32m   2367\u001b[0m     kwargs[\u001b[39m'\u001b[39m\u001b[39mlocal_ns\u001b[39m\u001b[39m'\u001b[39m] \u001b[39m=\u001b[39m \u001b[39mself\u001b[39m\u001b[39m.\u001b[39mget_local_scope(stack_depth)\n\u001b[0;32m   2368\u001b[0m \u001b[39mwith\u001b[39;00m \u001b[39mself\u001b[39m\u001b[39m.\u001b[39mbuiltin_trap:\n\u001b[1;32m-> 2369\u001b[0m     result \u001b[39m=\u001b[39m fn(\u001b[39m*\u001b[39;49margs, \u001b[39m*\u001b[39;49m\u001b[39m*\u001b[39;49mkwargs)\n\u001b[0;32m   2371\u001b[0m \u001b[39m# The code below prevents the output from being displayed\u001b[39;00m\n\u001b[0;32m   2372\u001b[0m \u001b[39m# when using magics with decodator @output_can_be_silenced\u001b[39;00m\n\u001b[0;32m   2373\u001b[0m \u001b[39m# when the last Python token in the expression is a ';'.\u001b[39;00m\n\u001b[0;32m   2374\u001b[0m \u001b[39mif\u001b[39;00m \u001b[39mgetattr\u001b[39m(fn, magic\u001b[39m.\u001b[39mMAGIC_OUTPUT_CAN_BE_SILENCED, \u001b[39mFalse\u001b[39;00m):\n",
      "File \u001b[1;32m~\\AppData\\Local\\Packages\\PythonSoftwareFoundation.Python.3.11_qbz5n2kfra8p0\\LocalCache\\local-packages\\Python311\\site-packages\\IPython\\core\\magics\\execution.py:709\u001b[0m, in \u001b[0;36mExecutionMagics.run\u001b[1;34m(self, parameter_s, runner, file_finder)\u001b[0m\n\u001b[0;32m    707\u001b[0m     \u001b[39mif\u001b[39;00m os\u001b[39m.\u001b[39mname \u001b[39m==\u001b[39m \u001b[39m'\u001b[39m\u001b[39mnt\u001b[39m\u001b[39m'\u001b[39m \u001b[39mand\u001b[39;00m re\u001b[39m.\u001b[39mmatch(\u001b[39mr\u001b[39m\u001b[39m\"\u001b[39m\u001b[39m^\u001b[39m\u001b[39m'\u001b[39m\u001b[39m.*\u001b[39m\u001b[39m'\u001b[39m\u001b[39m$\u001b[39m\u001b[39m\"\u001b[39m,fpath):\n\u001b[0;32m    708\u001b[0m         warn(\u001b[39m'\u001b[39m\u001b[39mFor Windows, use double quotes to wrap a filename: \u001b[39m\u001b[39m%r\u001b[39;00m\u001b[39mun \u001b[39m\u001b[39m\"\u001b[39m\u001b[39mmypath\u001b[39m\u001b[39m\\\\\u001b[39;00m\u001b[39mmyfile.py\u001b[39m\u001b[39m\"\u001b[39m\u001b[39m'\u001b[39m)\n\u001b[1;32m--> 709\u001b[0m     \u001b[39mraise\u001b[39;00m \u001b[39mException\u001b[39;00m(msg) \u001b[39mfrom\u001b[39;00m \u001b[39me\u001b[39;00m\n\u001b[0;32m    710\u001b[0m \u001b[39mexcept\u001b[39;00m \u001b[39mTypeError\u001b[39;00m:\n\u001b[0;32m    711\u001b[0m     \u001b[39mif\u001b[39;00m fpath \u001b[39min\u001b[39;00m sys\u001b[39m.\u001b[39mmeta_path:\n",
      "\u001b[1;31mException\u001b[0m: File `\"'altin.ipynb'\"` not found."
     ]
    }
   ],
   "source": [
    "import time\n",
    "while True:\n",
    "    print(\"**YetGen Kuyumculuk Sitesi'ne Hoşgeldiniz!**\")\n",
    "    print(\"Hangi maden için işlem yapmak istersiniz?\\n1. Altın\\n2. Elmas\\n3. Gümüş\\n4. Çıkış\")\n",
    "    secim = input(\"Seçiminiz:\")\n",
    "\n",
    "    if secim == \"1\":\n",
    "        %run 'altin.ipynb'\n",
    "    elif secim == \"2\":\n",
    "        %run 'elmas.ipynb'\n",
    "    elif secim== \"3\":\n",
    "        %run 'gumus.ipynb'\n",
    "    elif secim== \"4\":\n",
    "        print(\"...Program kapatılıyor...\")\n",
    "        time.sleep(1)\n",
    "        print(\"Program kapandı.\")\n",
    "        break\n",
    "    else:\n",
    "        print(\"Geçersiz seçim! Lütfen tekrar deneyin.\")"
   ]
  }
 ],
 "metadata": {
  "kernelspec": {
   "display_name": "Python 3",
   "language": "python",
   "name": "python3"
  },
  "language_info": {
   "codemirror_mode": {
    "name": "ipython",
    "version": 3
   },
   "file_extension": ".py",
   "mimetype": "text/x-python",
   "name": "python",
   "nbconvert_exporter": "python",
   "pygments_lexer": "ipython3",
   "version": "3.11.3"
  },
  "orig_nbformat": 4
 },
 "nbformat": 4,
 "nbformat_minor": 2
}
