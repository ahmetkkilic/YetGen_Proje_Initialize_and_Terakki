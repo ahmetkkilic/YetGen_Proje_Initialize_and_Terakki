{
 "cells": [
  {
   "cell_type": "code",
   "execution_count": 2,
   "metadata": {},
   "outputs": [
    {
     "name": "stdout",
     "output_type": "stream",
     "text": [
      "\u001b[35m\u001b[2m*****************************************\u001b[0m\n",
      "\u001b[36m\u001b[1mYetGen Kuyumculuk Sistemi'ne Hoş Geldiniz\u001b[0m\n",
      "\u001b[35m\u001b[2m*****************************************\u001b[0m\n",
      "Hangi maden için işlem yapmak istersiniz?\n",
      "1. Altın\n",
      "2. Elmas\n",
      "3. Gümüş\n",
      "4. Çıkış\n",
      "\n"
     ]
    }
   ],
   "source": [
    "import time\n",
    "from colorama import Fore, Style\n",
    "while True:\n",
    "    print(Fore.MAGENTA + Style.DIM + \"*****************************************\" + Style.RESET_ALL)\n",
    "    print(Fore.CYAN + Style.BRIGHT + \"YetGen Kuyumculuk Sistemi'ne Hoş Geldiniz\" + Style.RESET_ALL)\n",
    "    print(Fore.MAGENTA + Style.DIM + \"*****************************************\" + Style.RESET_ALL)\n",
    "    print(\"Hangi maden için işlem yapmak istersiniz?\\n1. Altın\\n2. Elmas\\n3. Gümüş\\n4. Çıkış\\n\")\n",
    "    secim = input(\"Seçiminiz:\")\n",
    "    try:\n",
    "        if secim == \"1\":\n",
    "            %run altin.ipynb\n",
    "            break\n",
    "        elif secim == \"2\":\n",
    "            %run elmas.ipynb\n",
    "            break\n",
    "        elif secim== \"3\":\n",
    "            %run gumus.ipynb\n",
    "            break\n",
    "        elif secim== \"4\":\n",
    "            print(\".·.Program kapatılıyor.·.\")\n",
    "            time.sleep(2)\n",
    "            print(\"Program kapandı.\")\n",
    "            break\n",
    "        else:\n",
    "            print(Fore.RED + Style.DIM + \"Geçerli olmayan giriş yaptınız! Lütfen tekrar deneyin.\" + Style.RESET_ALL)\n",
    "    except:\n",
    "        print(Fore.RED + Style.DIM + \"Bir hata oluştu. Lütfen tekrar deneyiniz.\" + Style.RESET_ALL)\n"
   ]
  }
 ],
 "metadata": {
  "kernelspec": {
   "display_name": "Python 3",
   "language": "python",
   "name": "python3"
  },
  "language_info": {
   "codemirror_mode": {
    "name": "ipython",
    "version": 3
   },
   "file_extension": ".py",
   "mimetype": "text/x-python",
   "name": "python",
   "nbconvert_exporter": "python",
   "pygments_lexer": "ipython3",
   "version": "3.11.3"
  },
  "orig_nbformat": 4
 },
 "nbformat": 4,
 "nbformat_minor": 2
}
